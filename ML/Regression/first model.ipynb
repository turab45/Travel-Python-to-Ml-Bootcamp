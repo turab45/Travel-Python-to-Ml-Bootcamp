{
 "cells": [
  {
   "cell_type": "code",
   "execution_count": 148,
   "metadata": {},
   "outputs": [],
   "source": [
    "#imported the basic libraries\n",
    "import pandas as pd\n",
    "import matplotlib.pyplot as plt \n",
    "import numpy as np   "
   ]
  },
  {
   "cell_type": "code",
   "execution_count": 149,
   "metadata": {},
   "outputs": [],
   "source": [
    "#importing the dataset into the dataframe\n",
    "dataset=pd.read_csv(\"titanic.csv\")"
   ]
  },
  {
   "cell_type": "code",
   "execution_count": 150,
   "metadata": {},
   "outputs": [
    {
     "data": {
      "text/html": [
       "<div>\n",
       "<style scoped>\n",
       "    .dataframe tbody tr th:only-of-type {\n",
       "        vertical-align: middle;\n",
       "    }\n",
       "\n",
       "    .dataframe tbody tr th {\n",
       "        vertical-align: top;\n",
       "    }\n",
       "\n",
       "    .dataframe thead th {\n",
       "        text-align: right;\n",
       "    }\n",
       "</style>\n",
       "<table border=\"1\" class=\"dataframe\">\n",
       "  <thead>\n",
       "    <tr style=\"text-align: right;\">\n",
       "      <th></th>\n",
       "      <th>PassengerId</th>\n",
       "      <th>Survived</th>\n",
       "      <th>Pclass</th>\n",
       "      <th>Name</th>\n",
       "      <th>Gender</th>\n",
       "      <th>Age</th>\n",
       "      <th>SibSp</th>\n",
       "      <th>Parch</th>\n",
       "      <th>Ticket</th>\n",
       "      <th>Fare</th>\n",
       "      <th>Cabin</th>\n",
       "      <th>Embarked</th>\n",
       "    </tr>\n",
       "  </thead>\n",
       "  <tbody>\n",
       "    <tr>\n",
       "      <th>0</th>\n",
       "      <td>1</td>\n",
       "      <td>0</td>\n",
       "      <td>3</td>\n",
       "      <td>Braund, Mr. Owen Harris</td>\n",
       "      <td>male</td>\n",
       "      <td>22.0</td>\n",
       "      <td>1</td>\n",
       "      <td>0</td>\n",
       "      <td>A/5 21171</td>\n",
       "      <td>7.2500</td>\n",
       "      <td>NaN</td>\n",
       "      <td>S</td>\n",
       "    </tr>\n",
       "    <tr>\n",
       "      <th>1</th>\n",
       "      <td>2</td>\n",
       "      <td>1</td>\n",
       "      <td>1</td>\n",
       "      <td>Cumings, Mrs. John Bradley (Florence Briggs Th...</td>\n",
       "      <td>female</td>\n",
       "      <td>38.0</td>\n",
       "      <td>1</td>\n",
       "      <td>0</td>\n",
       "      <td>PC 17599</td>\n",
       "      <td>71.2833</td>\n",
       "      <td>C85</td>\n",
       "      <td>C</td>\n",
       "    </tr>\n",
       "    <tr>\n",
       "      <th>2</th>\n",
       "      <td>3</td>\n",
       "      <td>1</td>\n",
       "      <td>3</td>\n",
       "      <td>Heikkinen, Miss. Laina</td>\n",
       "      <td>female</td>\n",
       "      <td>26.0</td>\n",
       "      <td>0</td>\n",
       "      <td>0</td>\n",
       "      <td>STON/O2. 3101282</td>\n",
       "      <td>7.9250</td>\n",
       "      <td>NaN</td>\n",
       "      <td>S</td>\n",
       "    </tr>\n",
       "    <tr>\n",
       "      <th>3</th>\n",
       "      <td>4</td>\n",
       "      <td>1</td>\n",
       "      <td>1</td>\n",
       "      <td>Futrelle, Mrs. Jacques Heath (Lily May Peel)</td>\n",
       "      <td>female</td>\n",
       "      <td>35.0</td>\n",
       "      <td>1</td>\n",
       "      <td>0</td>\n",
       "      <td>113803</td>\n",
       "      <td>53.1000</td>\n",
       "      <td>C123</td>\n",
       "      <td>S</td>\n",
       "    </tr>\n",
       "    <tr>\n",
       "      <th>4</th>\n",
       "      <td>5</td>\n",
       "      <td>0</td>\n",
       "      <td>3</td>\n",
       "      <td>Allen, Mr. William Henry</td>\n",
       "      <td>male</td>\n",
       "      <td>35.0</td>\n",
       "      <td>0</td>\n",
       "      <td>0</td>\n",
       "      <td>373450</td>\n",
       "      <td>8.0500</td>\n",
       "      <td>NaN</td>\n",
       "      <td>S</td>\n",
       "    </tr>\n",
       "  </tbody>\n",
       "</table>\n",
       "</div>"
      ],
      "text/plain": [
       "   PassengerId  Survived  Pclass  \\\n",
       "0            1         0       3   \n",
       "1            2         1       1   \n",
       "2            3         1       3   \n",
       "3            4         1       1   \n",
       "4            5         0       3   \n",
       "\n",
       "                                                Name  Gender   Age  SibSp  \\\n",
       "0                            Braund, Mr. Owen Harris    male  22.0      1   \n",
       "1  Cumings, Mrs. John Bradley (Florence Briggs Th...  female  38.0      1   \n",
       "2                             Heikkinen, Miss. Laina  female  26.0      0   \n",
       "3       Futrelle, Mrs. Jacques Heath (Lily May Peel)  female  35.0      1   \n",
       "4                           Allen, Mr. William Henry    male  35.0      0   \n",
       "\n",
       "   Parch            Ticket     Fare Cabin Embarked  \n",
       "0      0         A/5 21171   7.2500   NaN        S  \n",
       "1      0          PC 17599  71.2833   C85        C  \n",
       "2      0  STON/O2. 3101282   7.9250   NaN        S  \n",
       "3      0            113803  53.1000  C123        S  \n",
       "4      0            373450   8.0500   NaN        S  "
      ]
     },
     "execution_count": 150,
     "metadata": {},
     "output_type": "execute_result"
    }
   ],
   "source": [
    "#fetch first 5 rows of dataframe.\n",
    "dataset.head()"
   ]
  },
  {
   "cell_type": "code",
   "execution_count": 151,
   "metadata": {},
   "outputs": [],
   "source": [
    "#extracted everything important\n",
    "dataset=dataset[['Name','Survived','Pclass','Age','Fare']]"
   ]
  },
  {
   "cell_type": "code",
   "execution_count": 152,
   "metadata": {},
   "outputs": [
    {
     "data": {
      "text/html": [
       "<div>\n",
       "<style scoped>\n",
       "    .dataframe tbody tr th:only-of-type {\n",
       "        vertical-align: middle;\n",
       "    }\n",
       "\n",
       "    .dataframe tbody tr th {\n",
       "        vertical-align: top;\n",
       "    }\n",
       "\n",
       "    .dataframe thead th {\n",
       "        text-align: right;\n",
       "    }\n",
       "</style>\n",
       "<table border=\"1\" class=\"dataframe\">\n",
       "  <thead>\n",
       "    <tr style=\"text-align: right;\">\n",
       "      <th></th>\n",
       "      <th>Name</th>\n",
       "      <th>Survived</th>\n",
       "      <th>Pclass</th>\n",
       "      <th>Age</th>\n",
       "      <th>Fare</th>\n",
       "    </tr>\n",
       "  </thead>\n",
       "  <tbody>\n",
       "    <tr>\n",
       "      <th>0</th>\n",
       "      <td>Braund, Mr. Owen Harris</td>\n",
       "      <td>0</td>\n",
       "      <td>3</td>\n",
       "      <td>22.0</td>\n",
       "      <td>7.2500</td>\n",
       "    </tr>\n",
       "    <tr>\n",
       "      <th>1</th>\n",
       "      <td>Cumings, Mrs. John Bradley (Florence Briggs Th...</td>\n",
       "      <td>1</td>\n",
       "      <td>1</td>\n",
       "      <td>38.0</td>\n",
       "      <td>71.2833</td>\n",
       "    </tr>\n",
       "    <tr>\n",
       "      <th>2</th>\n",
       "      <td>Heikkinen, Miss. Laina</td>\n",
       "      <td>1</td>\n",
       "      <td>3</td>\n",
       "      <td>26.0</td>\n",
       "      <td>7.9250</td>\n",
       "    </tr>\n",
       "    <tr>\n",
       "      <th>3</th>\n",
       "      <td>Futrelle, Mrs. Jacques Heath (Lily May Peel)</td>\n",
       "      <td>1</td>\n",
       "      <td>1</td>\n",
       "      <td>35.0</td>\n",
       "      <td>53.1000</td>\n",
       "    </tr>\n",
       "    <tr>\n",
       "      <th>4</th>\n",
       "      <td>Allen, Mr. William Henry</td>\n",
       "      <td>0</td>\n",
       "      <td>3</td>\n",
       "      <td>35.0</td>\n",
       "      <td>8.0500</td>\n",
       "    </tr>\n",
       "  </tbody>\n",
       "</table>\n",
       "</div>"
      ],
      "text/plain": [
       "                                                Name  Survived  Pclass   Age  \\\n",
       "0                            Braund, Mr. Owen Harris         0       3  22.0   \n",
       "1  Cumings, Mrs. John Bradley (Florence Briggs Th...         1       1  38.0   \n",
       "2                             Heikkinen, Miss. Laina         1       3  26.0   \n",
       "3       Futrelle, Mrs. Jacques Heath (Lily May Peel)         1       1  35.0   \n",
       "4                           Allen, Mr. William Henry         0       3  35.0   \n",
       "\n",
       "      Fare  \n",
       "0   7.2500  \n",
       "1  71.2833  \n",
       "2   7.9250  \n",
       "3  53.1000  \n",
       "4   8.0500  "
      ]
     },
     "execution_count": 152,
     "metadata": {},
     "output_type": "execute_result"
    }
   ],
   "source": [
    "dataset.head()"
   ]
  },
  {
   "cell_type": "code",
   "execution_count": 153,
   "metadata": {},
   "outputs": [],
   "source": [
    "#choose the features and label\n",
    "x=dataset[['Survived','Pclass','Age','Fare']]\n",
    "y=dataset['Name']"
   ]
  },
  {
   "cell_type": "code",
   "execution_count": 154,
   "metadata": {},
   "outputs": [],
   "source": [
    "new = dataset[\"Name\"].str.split(\" \", n = 2, expand = True) "
   ]
  },
  {
   "cell_type": "code",
   "execution_count": 155,
   "metadata": {},
   "outputs": [
    {
     "data": {
      "text/html": [
       "<div>\n",
       "<style scoped>\n",
       "    .dataframe tbody tr th:only-of-type {\n",
       "        vertical-align: middle;\n",
       "    }\n",
       "\n",
       "    .dataframe tbody tr th {\n",
       "        vertical-align: top;\n",
       "    }\n",
       "\n",
       "    .dataframe thead th {\n",
       "        text-align: right;\n",
       "    }\n",
       "</style>\n",
       "<table border=\"1\" class=\"dataframe\">\n",
       "  <thead>\n",
       "    <tr style=\"text-align: right;\">\n",
       "      <th></th>\n",
       "      <th>0</th>\n",
       "      <th>1</th>\n",
       "      <th>2</th>\n",
       "    </tr>\n",
       "  </thead>\n",
       "  <tbody>\n",
       "    <tr>\n",
       "      <th>0</th>\n",
       "      <td>Braund,</td>\n",
       "      <td>Mr.</td>\n",
       "      <td>Owen Harris</td>\n",
       "    </tr>\n",
       "    <tr>\n",
       "      <th>1</th>\n",
       "      <td>Cumings,</td>\n",
       "      <td>Mrs.</td>\n",
       "      <td>John Bradley (Florence Briggs Thayer)</td>\n",
       "    </tr>\n",
       "    <tr>\n",
       "      <th>2</th>\n",
       "      <td>Heikkinen,</td>\n",
       "      <td>Miss.</td>\n",
       "      <td>Laina</td>\n",
       "    </tr>\n",
       "    <tr>\n",
       "      <th>3</th>\n",
       "      <td>Futrelle,</td>\n",
       "      <td>Mrs.</td>\n",
       "      <td>Jacques Heath (Lily May Peel)</td>\n",
       "    </tr>\n",
       "    <tr>\n",
       "      <th>4</th>\n",
       "      <td>Allen,</td>\n",
       "      <td>Mr.</td>\n",
       "      <td>William Henry</td>\n",
       "    </tr>\n",
       "    <tr>\n",
       "      <th>...</th>\n",
       "      <td>...</td>\n",
       "      <td>...</td>\n",
       "      <td>...</td>\n",
       "    </tr>\n",
       "    <tr>\n",
       "      <th>886</th>\n",
       "      <td>Montvila,</td>\n",
       "      <td>Rev.</td>\n",
       "      <td>Juozas</td>\n",
       "    </tr>\n",
       "    <tr>\n",
       "      <th>887</th>\n",
       "      <td>Graham,</td>\n",
       "      <td>Miss.</td>\n",
       "      <td>Margaret Edith</td>\n",
       "    </tr>\n",
       "    <tr>\n",
       "      <th>888</th>\n",
       "      <td>Johnston,</td>\n",
       "      <td>Miss.</td>\n",
       "      <td>Catherine Helen \"Carrie\"</td>\n",
       "    </tr>\n",
       "    <tr>\n",
       "      <th>889</th>\n",
       "      <td>Behr,</td>\n",
       "      <td>Mr.</td>\n",
       "      <td>Karl Howell</td>\n",
       "    </tr>\n",
       "    <tr>\n",
       "      <th>890</th>\n",
       "      <td>Dooley,</td>\n",
       "      <td>Mr.</td>\n",
       "      <td>Patrick</td>\n",
       "    </tr>\n",
       "  </tbody>\n",
       "</table>\n",
       "<p>891 rows × 3 columns</p>\n",
       "</div>"
      ],
      "text/plain": [
       "              0      1                                      2\n",
       "0       Braund,    Mr.                            Owen Harris\n",
       "1      Cumings,   Mrs.  John Bradley (Florence Briggs Thayer)\n",
       "2    Heikkinen,  Miss.                                  Laina\n",
       "3     Futrelle,   Mrs.          Jacques Heath (Lily May Peel)\n",
       "4        Allen,    Mr.                          William Henry\n",
       "..          ...    ...                                    ...\n",
       "886   Montvila,   Rev.                                 Juozas\n",
       "887     Graham,  Miss.                         Margaret Edith\n",
       "888   Johnston,  Miss.               Catherine Helen \"Carrie\"\n",
       "889       Behr,    Mr.                            Karl Howell\n",
       "890     Dooley,    Mr.                                Patrick\n",
       "\n",
       "[891 rows x 3 columns]"
      ]
     },
     "execution_count": 155,
     "metadata": {},
     "output_type": "execute_result"
    }
   ],
   "source": [
    "new"
   ]
  },
  {
   "cell_type": "code",
   "execution_count": 156,
   "metadata": {},
   "outputs": [],
   "source": [
    "y=new[1]"
   ]
  },
  {
   "cell_type": "code",
   "execution_count": 157,
   "metadata": {},
   "outputs": [
    {
     "data": {
      "text/plain": [
       "0        Mr.\n",
       "1       Mrs.\n",
       "2      Miss.\n",
       "3       Mrs.\n",
       "4        Mr.\n",
       "       ...  \n",
       "886     Rev.\n",
       "887    Miss.\n",
       "888    Miss.\n",
       "889      Mr.\n",
       "890      Mr.\n",
       "Name: 1, Length: 891, dtype: object"
      ]
     },
     "execution_count": 157,
     "metadata": {},
     "output_type": "execute_result"
    }
   ],
   "source": [
    "y"
   ]
  },
  {
   "cell_type": "code",
   "execution_count": 158,
   "metadata": {},
   "outputs": [
    {
     "data": {
      "text/plain": [
       "array([17, 18, 14, 18, 17, 17, 17, 11, 18, 18, 14, 14, 17, 17, 14, 18, 11,\n",
       "       17, 22, 18, 17, 17, 14, 17, 14, 18, 17, 17, 14, 17,  5, 18, 14, 17,\n",
       "       17, 17, 17, 17, 22, 14, 18, 18, 17, 14, 14, 17, 17, 14, 17, 18, 11,\n",
       "       17, 18, 18, 17, 17, 14, 17, 14, 11, 17, 14, 17, 11, 17, 11, 18, 17,\n",
       "       14, 17, 17, 14, 17, 17, 17, 17, 17, 17, 11, 14, 17, 17, 14, 17, 14,\n",
       "       18, 17, 17, 14, 17, 17, 17, 17, 17, 17, 17, 17, 17, 18, 17, 14, 17,\n",
       "       17, 17, 17, 17, 14, 17, 17, 14, 17, 14, 17, 14, 14, 17, 17, 17, 17,\n",
       "       14, 17, 17, 17, 14, 17, 11, 17, 17, 14, 17, 17, 17, 18, 18, 17, 17,\n",
       "       14, 17, 17, 17, 18, 14, 18, 17, 17, 17, 17, 14, 17, 23, 23, 18, 17,\n",
       "        0, 17, 17, 14, 17, 17, 11, 17, 18, 17, 17, 11, 11, 18, 18, 17, 17,\n",
       "       28, 11, 14, 17, 17, 17, 11, 14, 17, 17, 14, 17, 11, 11, 14, 17, 18,\n",
       "       17, 17, 17, 18, 17, 14, 11, 18, 14, 17, 17, 14, 14, 27, 17, 17, 17,\n",
       "       17, 14, 17, 17, 14, 17, 17, 14, 17, 17, 17, 14, 14, 17, 14, 17, 17,\n",
       "       17, 17, 17, 17, 17, 17, 17, 17, 14, 18, 17, 17, 14, 17, 14, 17, 14,\n",
       "       17, 17, 14, 14, 17, 17, 17,  6, 14, 18, 17, 23, 17, 18, 17, 17, 18,\n",
       "       18, 18, 14, 14, 18, 17, 11, 17, 17, 14, 17, 17, 17, 18, 14, 17, 17,\n",
       "       18, 17, 14, 14, 14, 17, 11, 18, 17, 17, 21, 17, 17, 17, 20, 17, 17,\n",
       "       14, 14, 18, 17, 14, 17, 17, 17, 14, 17, 18, 14, 17, 17, 14, 17, 11,\n",
       "       14, 30, 17, 14, 14, 14, 18, 17, 17, 14, 18,  6, 14, 18, 17, 17, 14,\n",
       "       18, 17, 14, 17, 18, 18, 14, 14, 17, 17, 22, 18, 17, 17, 14, 17, 17,\n",
       "       11, 14, 17, 17, 17, 14, 14, 18, 11, 17, 17, 17, 17, 17, 17, 25, 14,\n",
       "       14, 14, 14, 17,  2, 18, 17, 17, 17, 18, 18, 14, 16, 17, 17, 17, 17,\n",
       "       14, 18, 14, 17, 17, 17, 14, 14, 17, 18, 17, 17, 11, 14, 17, 14, 17,\n",
       "       17, 17, 14, 18, 17, 14, 17,  6, 18, 17, 17, 14, 17, 14, 17, 17, 11,\n",
       "       17, 14, 17, 17, 14, 17, 17, 18, 18, 14, 17,  8, 17, 17, 17, 18, 17,\n",
       "       17, 18, 14, 17, 17, 17, 18, 18, 17, 17, 14, 14, 18, 17, 17, 18, 17,\n",
       "       17, 19, 17, 11, 14, 17, 14, 10, 17, 17, 17, 17, 17, 17, 17, 18, 14,\n",
       "       17, 17, 17, 17, 17, 17, 17, 17, 17, 17, 14, 17, 17, 18, 18, 14, 17,\n",
       "       17, 17, 17, 14, 11, 17, 17, 18, 17, 14, 18, 17, 17, 11, 17, 17, 17,\n",
       "       17, 17, 17, 14, 17, 18, 17, 17, 14, 14, 14, 14, 30, 18, 17, 17, 17,\n",
       "       17, 17, 17, 18, 17, 17, 18, 17, 18, 17, 14, 17, 17, 18, 17, 17, 14,\n",
       "       17, 17, 17, 14, 17, 17, 18, 14, 14, 10, 14, 17, 14, 14, 14, 14, 17,\n",
       "       17, 17, 18, 30, 17, 11, 17, 17, 17, 17, 14, 17,  7, 17, 18, 13, 17,\n",
       "       17, 17, 17, 14, 17, 17, 18, 17, 17, 17, 18, 17, 14, 17, 17, 14, 18,\n",
       "       18, 17, 14, 18, 17, 17, 17, 14, 17, 17, 17, 17, 17, 18, 17, 14, 17,\n",
       "        8, 14, 17, 17,  7, 18, 17, 17, 17, 17, 17, 17, 17, 18, 14, 18, 17,\n",
       "       14, 17, 17, 14, 17, 18, 14, 17, 17, 17, 17, 17, 17, 17, 23, 14, 17,\n",
       "       17, 17, 17,  6, 17, 14, 14, 17, 17, 18, 17, 17, 15, 14, 17, 14, 17,\n",
       "       17,  3, 17, 14, 17, 14, 17, 14, 14, 17, 17, 18, 17, 17,  6, 17, 17,\n",
       "       17, 17, 17, 17, 17, 17, 18, 18, 17, 17, 17, 17, 17, 17, 14, 18, 17,\n",
       "       14, 17, 17, 17, 17, 17, 17, 17, 17, 14, 17, 14, 17, 17,  3, 17, 17,\n",
       "       14, 17, 17, 18, 17, 14, 17, 17, 17, 18, 17, 14, 11, 15, 17, 17, 17,\n",
       "       17, 17, 14, 14, 17, 17, 14, 17, 17, 17, 17, 17, 18, 14, 17, 14, 14,\n",
       "       17, 17, 17, 17, 17, 18, 17, 17, 17, 17, 17, 14, 17, 17,  1, 17, 14,\n",
       "       17, 17, 14, 11, 26, 17, 18, 11, 17, 17, 17, 29, 17, 17, 17, 18, 17,\n",
       "       18,  6, 14, 17, 17, 17, 17, 18, 17, 18, 17, 17, 14, 17, 18, 14, 18,\n",
       "       17, 17, 17, 17, 14, 11, 11, 17, 17, 17, 14, 17, 17, 17,  6, 18, 24,\n",
       "        8, 17, 18, 11, 11, 17, 17, 17, 14, 17, 18, 17, 17, 17, 14, 17, 17,\n",
       "       14, 17, 17, 11, 18, 17,  9, 18, 11, 17, 17, 11, 17, 18, 18, 11, 17,\n",
       "       17, 17, 14, 17, 17, 17, 17, 17, 17, 14, 17, 17, 17, 17, 17, 23, 18,\n",
       "       11, 17, 14, 14, 18, 18, 18, 17, 18, 17, 17, 17, 18, 14, 17, 18, 30,\n",
       "       17, 12, 11, 17, 18, 17,  4, 18, 14, 17, 17, 17, 18, 18, 17, 14, 17,\n",
       "       17, 18, 23, 14, 14, 17, 17])"
      ]
     },
     "execution_count": 158,
     "metadata": {},
     "output_type": "execute_result"
    }
   ],
   "source": [
    "from sklearn.preprocessing import LabelEncoder\n",
    "labelEncoder_y=LabelEncoder()\n",
    "y=labelEncoder_y.fit_transform(y)\n",
    "y\n"
   ]
  },
  {
   "cell_type": "code",
   "execution_count": 159,
   "metadata": {},
   "outputs": [
    {
     "data": {
      "text/plain": [
       "Survived      0\n",
       "Pclass        0\n",
       "Age         177\n",
       "Fare          0\n",
       "dtype: int64"
      ]
     },
     "execution_count": 159,
     "metadata": {},
     "output_type": "execute_result"
    }
   ],
   "source": [
    "# x.isnull().sum()\n",
    "x.isnull().sum()"
   ]
  },
  {
   "cell_type": "code",
   "execution_count": 160,
   "metadata": {},
   "outputs": [
    {
     "data": {
      "text/plain": [
       "array([[ 0.        ,  3.        , 22.        ,  7.25      ],\n",
       "       [ 1.        ,  1.        , 38.        , 71.2833    ],\n",
       "       [ 1.        ,  3.        , 26.        ,  7.925     ],\n",
       "       ...,\n",
       "       [ 0.        ,  3.        , 29.69911765, 23.45      ],\n",
       "       [ 1.        ,  1.        , 26.        , 30.        ],\n",
       "       [ 0.        ,  3.        , 32.        ,  7.75      ]])"
      ]
     },
     "execution_count": 160,
     "metadata": {},
     "output_type": "execute_result"
    }
   ],
   "source": [
    "from sklearn.impute import SimpleImputer\n",
    "impute_mean = SimpleImputer(missing_values=np.nan, strategy='mean')\n",
    "impute_mean.fit(x)\n",
    "x=impute_mean.transform(x)\n",
    "x"
   ]
  },
  {
   "cell_type": "code",
   "execution_count": 161,
   "metadata": {},
   "outputs": [
    {
     "data": {
      "image/png": "[encoded data removed]",
      "text/plain": [
       "<Figure size 720x504 with 1 Axes>"
      ]
     },
     "metadata": {
      "needs_background": "light"
     },
     "output_type": "display_data"
    }
   ],
   "source": [
    "fig = plt.figure(figsize =(10, 7)) \n",
    "ax = fig.add_axes([0, 0, 1, 1]) \n",
    "bp = ax.boxplot(x) \n",
    "plt.show() "
   ]
  },
  {
   "cell_type": "code",
   "execution_count": 162,
   "metadata": {},
   "outputs": [],
   "source": [
    "from sklearn.preprocessing import StandardScaler\n",
    "sc_X = StandardScaler()\n",
    "x= sc_X.fit_transform(x)"
   ]
  },
  {
   "cell_type": "code",
   "execution_count": 163,
   "metadata": {},
   "outputs": [
    {
     "data": {
      "text/plain": [
       "array([[-0.78927234,  0.82737724, -0.5924806 , -0.50244517],\n",
       "       [ 1.2669898 , -1.56610693,  0.63878901,  0.78684529],\n",
       "       [ 1.2669898 ,  0.82737724, -0.2846632 , -0.48885426],\n",
       "       ...,\n",
       "       [-0.78927234,  0.82737724,  0.        , -0.17626324],\n",
       "       [ 1.2669898 , -1.56610693, -0.2846632 , -0.04438104],\n",
       "       [-0.78927234,  0.82737724,  0.17706291, -0.49237783]])"
      ]
     },
     "execution_count": 163,
     "metadata": {},
     "output_type": "execute_result"
    }
   ],
   "source": [
    "x"
   ]
  },
  {
   "cell_type": "code",
   "execution_count": 164,
   "metadata": {},
   "outputs": [
    {
     "data": {
      "text/plain": [
       "array([17, 18, 14, 18, 17, 17, 17, 11, 18, 18, 14, 14, 17, 17, 14, 18, 11,\n",
       "       17, 22, 18, 17, 17, 14, 17, 14, 18, 17, 17, 14, 17,  5, 18, 14, 17,\n",
       "       17, 17, 17, 17, 22, 14, 18, 18, 17, 14, 14, 17, 17, 14, 17, 18, 11,\n",
       "       17, 18, 18, 17, 17, 14, 17, 14, 11, 17, 14, 17, 11, 17, 11, 18, 17,\n",
       "       14, 17, 17, 14, 17, 17, 17, 17, 17, 17, 11, 14, 17, 17, 14, 17, 14,\n",
       "       18, 17, 17, 14, 17, 17, 17, 17, 17, 17, 17, 17, 17, 18, 17, 14, 17,\n",
       "       17, 17, 17, 17, 14, 17, 17, 14, 17, 14, 17, 14, 14, 17, 17, 17, 17,\n",
       "       14, 17, 17, 17, 14, 17, 11, 17, 17, 14, 17, 17, 17, 18, 18, 17, 17,\n",
       "       14, 17, 17, 17, 18, 14, 18, 17, 17, 17, 17, 14, 17, 23, 23, 18, 17,\n",
       "        0, 17, 17, 14, 17, 17, 11, 17, 18, 17, 17, 11, 11, 18, 18, 17, 17,\n",
       "       28, 11, 14, 17, 17, 17, 11, 14, 17, 17, 14, 17, 11, 11, 14, 17, 18,\n",
       "       17, 17, 17, 18, 17, 14, 11, 18, 14, 17, 17, 14, 14, 27, 17, 17, 17,\n",
       "       17, 14, 17, 17, 14, 17, 17, 14, 17, 17, 17, 14, 14, 17, 14, 17, 17,\n",
       "       17, 17, 17, 17, 17, 17, 17, 17, 14, 18, 17, 17, 14, 17, 14, 17, 14,\n",
       "       17, 17, 14, 14, 17, 17, 17,  6, 14, 18, 17, 23, 17, 18, 17, 17, 18,\n",
       "       18, 18, 14, 14, 18, 17, 11, 17, 17, 14, 17, 17, 17, 18, 14, 17, 17,\n",
       "       18, 17, 14, 14, 14, 17, 11, 18, 17, 17, 21, 17, 17, 17, 20, 17, 17,\n",
       "       14, 14, 18, 17, 14, 17, 17, 17, 14, 17, 18, 14, 17, 17, 14, 17, 11,\n",
       "       14, 30, 17, 14, 14, 14, 18, 17, 17, 14, 18,  6, 14, 18, 17, 17, 14,\n",
       "       18, 17, 14, 17, 18, 18, 14, 14, 17, 17, 22, 18, 17, 17, 14, 17, 17,\n",
       "       11, 14, 17, 17, 17, 14, 14, 18, 11, 17, 17, 17, 17, 17, 17, 25, 14,\n",
       "       14, 14, 14, 17,  2, 18, 17, 17, 17, 18, 18, 14, 16, 17, 17, 17, 17,\n",
       "       14, 18, 14, 17, 17, 17, 14, 14, 17, 18, 17, 17, 11, 14, 17, 14, 17,\n",
       "       17, 17, 14, 18, 17, 14, 17,  6, 18, 17, 17, 14, 17, 14, 17, 17, 11,\n",
       "       17, 14, 17, 17, 14, 17, 17, 18, 18, 14, 17,  8, 17, 17, 17, 18, 17,\n",
       "       17, 18, 14, 17, 17, 17, 18, 18, 17, 17, 14, 14, 18, 17, 17, 18, 17,\n",
       "       17, 19, 17, 11, 14, 17, 14, 10, 17, 17, 17, 17, 17, 17, 17, 18, 14,\n",
       "       17, 17, 17, 17, 17, 17, 17, 17, 17, 17, 14, 17, 17, 18, 18, 14, 17,\n",
       "       17, 17, 17, 14, 11, 17, 17, 18, 17, 14, 18, 17, 17, 11, 17, 17, 17,\n",
       "       17, 17, 17, 14, 17, 18, 17, 17, 14, 14, 14, 14, 30, 18, 17, 17, 17,\n",
       "       17, 17, 17, 18, 17, 17, 18, 17, 18, 17, 14, 17, 17, 18, 17, 17, 14,\n",
       "       17, 17, 17, 14, 17, 17, 18, 14, 14, 10, 14, 17, 14, 14, 14, 14, 17,\n",
       "       17, 17, 18, 30, 17, 11, 17, 17, 17, 17, 14, 17,  7, 17, 18, 13, 17,\n",
       "       17, 17, 17, 14, 17, 17, 18, 17, 17, 17, 18, 17, 14, 17, 17, 14, 18,\n",
       "       18, 17, 14, 18, 17, 17, 17, 14, 17, 17, 17, 17, 17, 18, 17, 14, 17,\n",
       "        8, 14, 17, 17,  7, 18, 17, 17, 17, 17, 17, 17, 17, 18, 14, 18, 17,\n",
       "       14, 17, 17, 14, 17, 18, 14, 17, 17, 17, 17, 17, 17, 17, 23, 14, 17,\n",
       "       17, 17, 17,  6, 17, 14, 14, 17, 17, 18, 17, 17, 15, 14, 17, 14, 17,\n",
       "       17,  3, 17, 14, 17, 14, 17, 14, 14, 17, 17, 18, 17, 17,  6, 17, 17,\n",
       "       17, 17, 17, 17, 17, 17, 18, 18, 17, 17, 17, 17, 17, 17, 14, 18, 17,\n",
       "       14, 17, 17, 17, 17, 17, 17, 17, 17, 14, 17, 14, 17, 17,  3, 17, 17,\n",
       "       14, 17, 17, 18, 17, 14, 17, 17, 17, 18, 17, 14, 11, 15, 17, 17, 17,\n",
       "       17, 17, 14, 14, 17, 17, 14, 17, 17, 17, 17, 17, 18, 14, 17, 14, 14,\n",
       "       17, 17, 17, 17, 17, 18, 17, 17, 17, 17, 17, 14, 17, 17,  1, 17, 14,\n",
       "       17, 17, 14, 11, 26, 17, 18, 11, 17, 17, 17, 29, 17, 17, 17, 18, 17,\n",
       "       18,  6, 14, 17, 17, 17, 17, 18, 17, 18, 17, 17, 14, 17, 18, 14, 18,\n",
       "       17, 17, 17, 17, 14, 11, 11, 17, 17, 17, 14, 17, 17, 17,  6, 18, 24,\n",
       "        8, 17, 18, 11, 11, 17, 17, 17, 14, 17, 18, 17, 17, 17, 14, 17, 17,\n",
       "       14, 17, 17, 11, 18, 17,  9, 18, 11, 17, 17, 11, 17, 18, 18, 11, 17,\n",
       "       17, 17, 14, 17, 17, 17, 17, 17, 17, 14, 17, 17, 17, 17, 17, 23, 18,\n",
       "       11, 17, 14, 14, 18, 18, 18, 17, 18, 17, 17, 17, 18, 14, 17, 18, 30,\n",
       "       17, 12, 11, 17, 18, 17,  4, 18, 14, 17, 17, 17, 18, 18, 17, 14, 17,\n",
       "       17, 18, 23, 14, 14, 17, 17])"
      ]
     },
     "execution_count": 164,
     "metadata": {},
     "output_type": "execute_result"
    }
   ],
   "source": [
    "y"
   ]
  },
  {
   "cell_type": "code",
   "execution_count": 165,
   "metadata": {},
   "outputs": [],
   "source": [
    "from sklearn.model_selection import train_test_split\n",
    "X_train, X_test, y_train, y_test = train_test_split(x, y, test_size = 0.2, random_state = 0)"
   ]
  },
  {
   "cell_type": "code",
   "execution_count": 166,
   "metadata": {},
   "outputs": [
    {
     "data": {
      "text/plain": [
       "array([18, 14, 11, 14, 11, 14, 14, 14, 18, 17, 17, 17, 17, 14, 14, 14, 17,\n",
       "       17, 17, 14, 17, 14, 17, 17, 14, 14, 17, 14, 14, 11, 14, 14, 25, 14,\n",
       "       17, 14, 17, 17, 17, 17, 18, 17, 18, 11, 14, 17, 17, 14, 17, 17, 14,\n",
       "       14, 14, 17, 14, 17, 17, 14, 11, 14, 17, 17, 18, 17, 14, 17, 18, 17,\n",
       "       11, 17, 14, 18, 17, 17, 17, 18, 17, 17, 17, 17, 17, 11, 17, 14, 17,\n",
       "       14, 14, 14, 18, 17, 17, 17, 11, 18, 11, 17, 18, 17, 17, 14, 11, 17,\n",
       "       17, 17, 12, 13, 18, 18, 17, 14, 17, 17, 17, 17, 18, 19, 18, 14, 17,\n",
       "       18, 17, 14, 14, 17, 14, 17, 17, 14, 17, 23, 17, 17, 17, 17, 17, 17,\n",
       "       17, 17, 18, 17, 17, 18, 17, 17, 18, 17, 17, 18,  6, 14, 17, 14, 17,\n",
       "       17, 14, 17, 18, 14, 17, 14, 17, 17, 18, 18, 14, 17, 17, 17, 17, 17,\n",
       "       17, 14, 17, 18, 11, 17, 14, 17, 17])"
      ]
     },
     "execution_count": 166,
     "metadata": {},
     "output_type": "execute_result"
    }
   ],
   "source": [
    "from sklearn.tree import DecisionTreeClassifier\n",
    "classifier=DecisionTreeClassifier()\n",
    "classifier.fit(X_train,y_train)\n",
    "y_pred=classifier.predict(X_test)\n",
    "y_pred"
   ]
  },
  {
   "cell_type": "code",
   "execution_count": 167,
   "metadata": {},
   "outputs": [
    {
     "name": "stdout",
     "output_type": "stream",
     "text": [
      "Accuracy is 0.5865921787709497 \n"
     ]
    }
   ],
   "source": [
    "from sklearn.metrics import accuracy_score\n",
    "print('Accuracy is {} '.format(accuracy_score(y_test, y_pred)))"
   ]
  },
  {
   "cell_type": "code",
   "execution_count": 168,
   "metadata": {},
   "outputs": [
    {
     "data": {
      "text/plain": [
       "14"
      ]
     },
     "execution_count": 168,
     "metadata": {},
     "output_type": "execute_result"
    }
   ],
   "source": [
    "classifier.predict([[1,1,22,7.25]])[0]"
   ]
  },
  {
   "cell_type": "code",
   "execution_count": 169,
   "metadata": {},
   "outputs": [
    {
     "name": "stdout",
     "output_type": "stream",
     "text": [
      "Miss\n"
     ]
    }
   ],
   "source": [
    "#['Pclass','Survived','Age','Fare']\n",
    "\n",
    "pred = classifier.predict([[1,1,38,71.28]])[0]\n",
    "if pred == 17:\n",
    "    print(\"Mr\")\n",
    "elif pred == 18:\n",
    "    print(\"Mrs\")\n",
    "elif pred == 14:\n",
    "    print(\"Miss\")"
   ]
  },
  {
   "cell_type": "code",
   "execution_count": null,
   "metadata": {},
   "outputs": [],
   "source": []
  }
 ],
 "metadata": {
  "kernelspec": {
   "display_name": "Python 3",
   "language": "python",
   "name": "python3"
  },
  "language_info": {
   "codemirror_mode": {
    "name": "ipython",
    "version": 3
   },
   "file_extension": ".py",
   "mimetype": "text/x-python",
   "name": "python",
   "nbconvert_exporter": "python",
   "pygments_lexer": "ipython3",
   "version": "3.9.1"
  }
 },
 "nbformat": 4,
 "nbformat_minor": 4
}
